{
 "cells": [
  {
   "cell_type": "code",
   "execution_count": 10,
   "metadata": {},
   "outputs": [
    {
     "name": "stdout",
     "output_type": "stream",
     "text": [
      "Requirement already satisfied: langchain in c:\\users\\devan\\onedrive\\desktop\\mcq-dev\\env\\lib\\site-packages (0.2.12)\n",
      "Requirement already satisfied: PyYAML>=5.3 in c:\\users\\devan\\onedrive\\desktop\\mcq-dev\\env\\lib\\site-packages (from langchain) (6.0.1)\n",
      "Requirement already satisfied: SQLAlchemy<3,>=1.4 in c:\\users\\devan\\onedrive\\desktop\\mcq-dev\\env\\lib\\site-packages (from langchain) (2.0.31)\n",
      "Requirement already satisfied: aiohttp<4.0.0,>=3.8.3 in c:\\users\\devan\\onedrive\\desktop\\mcq-dev\\env\\lib\\site-packages (from langchain) (3.10.0)\n",
      "Requirement already satisfied: async-timeout<5.0.0,>=4.0.0 in c:\\users\\devan\\onedrive\\desktop\\mcq-dev\\env\\lib\\site-packages (from langchain) (4.0.3)\n",
      "Requirement already satisfied: langchain-core<0.3.0,>=0.2.27 in c:\\users\\devan\\onedrive\\desktop\\mcq-dev\\env\\lib\\site-packages (from langchain) (0.2.27)\n",
      "Requirement already satisfied: langchain-text-splitters<0.3.0,>=0.2.0 in c:\\users\\devan\\onedrive\\desktop\\mcq-dev\\env\\lib\\site-packages (from langchain) (0.2.2)\n",
      "Requirement already satisfied: langsmith<0.2.0,>=0.1.17 in c:\\users\\devan\\onedrive\\desktop\\mcq-dev\\env\\lib\\site-packages (from langchain) (0.1.96)\n",
      "Requirement already satisfied: numpy<2,>=1 in c:\\users\\devan\\onedrive\\desktop\\mcq-dev\\env\\lib\\site-packages (from langchain) (1.24.4)\n",
      "Requirement already satisfied: pydantic<3,>=1 in c:\\users\\devan\\onedrive\\desktop\\mcq-dev\\env\\lib\\site-packages (from langchain) (2.8.2)\n",
      "Requirement already satisfied: requests<3,>=2 in c:\\users\\devan\\onedrive\\desktop\\mcq-dev\\env\\lib\\site-packages (from langchain) (2.32.3)\n",
      "Requirement already satisfied: tenacity!=8.4.0,<9.0.0,>=8.1.0 in c:\\users\\devan\\onedrive\\desktop\\mcq-dev\\env\\lib\\site-packages (from langchain) (8.5.0)\n",
      "Requirement already satisfied: aiohappyeyeballs>=2.3.0 in c:\\users\\devan\\onedrive\\desktop\\mcq-dev\\env\\lib\\site-packages (from aiohttp<4.0.0,>=3.8.3->langchain) (2.3.4)\n",
      "Requirement already satisfied: aiosignal>=1.1.2 in c:\\users\\devan\\onedrive\\desktop\\mcq-dev\\env\\lib\\site-packages (from aiohttp<4.0.0,>=3.8.3->langchain) (1.3.1)\n",
      "Requirement already satisfied: attrs>=17.3.0 in c:\\users\\devan\\onedrive\\desktop\\mcq-dev\\env\\lib\\site-packages (from aiohttp<4.0.0,>=3.8.3->langchain) (23.2.0)\n",
      "Requirement already satisfied: frozenlist>=1.1.1 in c:\\users\\devan\\onedrive\\desktop\\mcq-dev\\env\\lib\\site-packages (from aiohttp<4.0.0,>=3.8.3->langchain) (1.4.1)\n",
      "Requirement already satisfied: multidict<7.0,>=4.5 in c:\\users\\devan\\onedrive\\desktop\\mcq-dev\\env\\lib\\site-packages (from aiohttp<4.0.0,>=3.8.3->langchain) (6.0.5)\n",
      "Requirement already satisfied: yarl<2.0,>=1.0 in c:\\users\\devan\\onedrive\\desktop\\mcq-dev\\env\\lib\\site-packages (from aiohttp<4.0.0,>=3.8.3->langchain) (1.9.4)\n",
      "Requirement already satisfied: jsonpatch<2.0,>=1.33 in c:\\users\\devan\\onedrive\\desktop\\mcq-dev\\env\\lib\\site-packages (from langchain-core<0.3.0,>=0.2.27->langchain) (1.33)\n",
      "Requirement already satisfied: packaging<25,>=23.2 in c:\\users\\devan\\onedrive\\desktop\\mcq-dev\\env\\lib\\site-packages (from langchain-core<0.3.0,>=0.2.27->langchain) (24.1)\n",
      "Requirement already satisfied: typing-extensions>=4.7 in c:\\users\\devan\\onedrive\\desktop\\mcq-dev\\env\\lib\\site-packages (from langchain-core<0.3.0,>=0.2.27->langchain) (4.12.2)\n",
      "Requirement already satisfied: orjson<4.0.0,>=3.9.14 in c:\\users\\devan\\onedrive\\desktop\\mcq-dev\\env\\lib\\site-packages (from langsmith<0.2.0,>=0.1.17->langchain) (3.10.6)\n",
      "Requirement already satisfied: annotated-types>=0.4.0 in c:\\users\\devan\\onedrive\\desktop\\mcq-dev\\env\\lib\\site-packages (from pydantic<3,>=1->langchain) (0.7.0)\n",
      "Requirement already satisfied: pydantic-core==2.20.1 in c:\\users\\devan\\onedrive\\desktop\\mcq-dev\\env\\lib\\site-packages (from pydantic<3,>=1->langchain) (2.20.1)\n",
      "Requirement already satisfied: charset-normalizer<4,>=2 in c:\\users\\devan\\onedrive\\desktop\\mcq-dev\\env\\lib\\site-packages (from requests<3,>=2->langchain) (3.3.2)\n",
      "Requirement already satisfied: idna<4,>=2.5 in c:\\users\\devan\\onedrive\\desktop\\mcq-dev\\env\\lib\\site-packages (from requests<3,>=2->langchain) (3.7)\n",
      "Requirement already satisfied: urllib3<3,>=1.21.1 in c:\\users\\devan\\onedrive\\desktop\\mcq-dev\\env\\lib\\site-packages (from requests<3,>=2->langchain) (2.2.2)\n",
      "Requirement already satisfied: certifi>=2017.4.17 in c:\\users\\devan\\onedrive\\desktop\\mcq-dev\\env\\lib\\site-packages (from requests<3,>=2->langchain) (2024.7.4)\n",
      "Requirement already satisfied: greenlet!=0.4.17 in c:\\users\\devan\\onedrive\\desktop\\mcq-dev\\env\\lib\\site-packages (from SQLAlchemy<3,>=1.4->langchain) (3.0.3)\n",
      "Requirement already satisfied: jsonpointer>=1.9 in c:\\users\\devan\\onedrive\\desktop\\mcq-dev\\env\\lib\\site-packages (from jsonpatch<2.0,>=1.33->langchain-core<0.3.0,>=0.2.27->langchain) (3.0.0)\n",
      "Requirement already satisfied: langchain_community in c:\\users\\devan\\onedrive\\desktop\\mcq-dev\\env\\lib\\site-packages (0.2.10)\n",
      "Requirement already satisfied: PyYAML>=5.3 in c:\\users\\devan\\onedrive\\desktop\\mcq-dev\\env\\lib\\site-packages (from langchain_community) (6.0.1)\n",
      "Requirement already satisfied: SQLAlchemy<3,>=1.4 in c:\\users\\devan\\onedrive\\desktop\\mcq-dev\\env\\lib\\site-packages (from langchain_community) (2.0.31)\n",
      "Requirement already satisfied: aiohttp<4.0.0,>=3.8.3 in c:\\users\\devan\\onedrive\\desktop\\mcq-dev\\env\\lib\\site-packages (from langchain_community) (3.10.0)\n",
      "Requirement already satisfied: dataclasses-json<0.7,>=0.5.7 in c:\\users\\devan\\onedrive\\desktop\\mcq-dev\\env\\lib\\site-packages (from langchain_community) (0.6.7)\n",
      "Requirement already satisfied: langchain<0.3.0,>=0.2.9 in c:\\users\\devan\\onedrive\\desktop\\mcq-dev\\env\\lib\\site-packages (from langchain_community) (0.2.12)\n",
      "Requirement already satisfied: langchain-core<0.3.0,>=0.2.23 in c:\\users\\devan\\onedrive\\desktop\\mcq-dev\\env\\lib\\site-packages (from langchain_community) (0.2.27)\n",
      "Requirement already satisfied: langsmith<0.2.0,>=0.1.0 in c:\\users\\devan\\onedrive\\desktop\\mcq-dev\\env\\lib\\site-packages (from langchain_community) (0.1.96)\n",
      "Requirement already satisfied: numpy<2,>=1 in c:\\users\\devan\\onedrive\\desktop\\mcq-dev\\env\\lib\\site-packages (from langchain_community) (1.24.4)\n",
      "Requirement already satisfied: requests<3,>=2 in c:\\users\\devan\\onedrive\\desktop\\mcq-dev\\env\\lib\\site-packages (from langchain_community) (2.32.3)\n",
      "Requirement already satisfied: tenacity!=8.4.0,<9.0.0,>=8.1.0 in c:\\users\\devan\\onedrive\\desktop\\mcq-dev\\env\\lib\\site-packages (from langchain_community) (8.5.0)\n",
      "Requirement already satisfied: aiohappyeyeballs>=2.3.0 in c:\\users\\devan\\onedrive\\desktop\\mcq-dev\\env\\lib\\site-packages (from aiohttp<4.0.0,>=3.8.3->langchain_community) (2.3.4)\n",
      "Requirement already satisfied: aiosignal>=1.1.2 in c:\\users\\devan\\onedrive\\desktop\\mcq-dev\\env\\lib\\site-packages (from aiohttp<4.0.0,>=3.8.3->langchain_community) (1.3.1)\n",
      "Requirement already satisfied: attrs>=17.3.0 in c:\\users\\devan\\onedrive\\desktop\\mcq-dev\\env\\lib\\site-packages (from aiohttp<4.0.0,>=3.8.3->langchain_community) (23.2.0)\n",
      "Requirement already satisfied: frozenlist>=1.1.1 in c:\\users\\devan\\onedrive\\desktop\\mcq-dev\\env\\lib\\site-packages (from aiohttp<4.0.0,>=3.8.3->langchain_community) (1.4.1)\n",
      "Requirement already satisfied: multidict<7.0,>=4.5 in c:\\users\\devan\\onedrive\\desktop\\mcq-dev\\env\\lib\\site-packages (from aiohttp<4.0.0,>=3.8.3->langchain_community) (6.0.5)\n",
      "Requirement already satisfied: yarl<2.0,>=1.0 in c:\\users\\devan\\onedrive\\desktop\\mcq-dev\\env\\lib\\site-packages (from aiohttp<4.0.0,>=3.8.3->langchain_community) (1.9.4)\n",
      "Requirement already satisfied: async-timeout<5.0,>=4.0 in c:\\users\\devan\\onedrive\\desktop\\mcq-dev\\env\\lib\\site-packages (from aiohttp<4.0.0,>=3.8.3->langchain_community) (4.0.3)\n",
      "Requirement already satisfied: marshmallow<4.0.0,>=3.18.0 in c:\\users\\devan\\onedrive\\desktop\\mcq-dev\\env\\lib\\site-packages (from dataclasses-json<0.7,>=0.5.7->langchain_community) (3.21.3)\n",
      "Requirement already satisfied: typing-inspect<1,>=0.4.0 in c:\\users\\devan\\onedrive\\desktop\\mcq-dev\\env\\lib\\site-packages (from dataclasses-json<0.7,>=0.5.7->langchain_community) (0.9.0)\n",
      "Requirement already satisfied: langchain-text-splitters<0.3.0,>=0.2.0 in c:\\users\\devan\\onedrive\\desktop\\mcq-dev\\env\\lib\\site-packages (from langchain<0.3.0,>=0.2.9->langchain_community) (0.2.2)\n",
      "Requirement already satisfied: pydantic<3,>=1 in c:\\users\\devan\\onedrive\\desktop\\mcq-dev\\env\\lib\\site-packages (from langchain<0.3.0,>=0.2.9->langchain_community) (2.8.2)\n",
      "Requirement already satisfied: jsonpatch<2.0,>=1.33 in c:\\users\\devan\\onedrive\\desktop\\mcq-dev\\env\\lib\\site-packages (from langchain-core<0.3.0,>=0.2.23->langchain_community) (1.33)\n",
      "Requirement already satisfied: packaging<25,>=23.2 in c:\\users\\devan\\onedrive\\desktop\\mcq-dev\\env\\lib\\site-packages (from langchain-core<0.3.0,>=0.2.23->langchain_community) (24.1)\n",
      "Requirement already satisfied: typing-extensions>=4.7 in c:\\users\\devan\\onedrive\\desktop\\mcq-dev\\env\\lib\\site-packages (from langchain-core<0.3.0,>=0.2.23->langchain_community) (4.12.2)\n",
      "Requirement already satisfied: orjson<4.0.0,>=3.9.14 in c:\\users\\devan\\onedrive\\desktop\\mcq-dev\\env\\lib\\site-packages (from langsmith<0.2.0,>=0.1.0->langchain_community) (3.10.6)\n",
      "Requirement already satisfied: charset-normalizer<4,>=2 in c:\\users\\devan\\onedrive\\desktop\\mcq-dev\\env\\lib\\site-packages (from requests<3,>=2->langchain_community) (3.3.2)\n",
      "Requirement already satisfied: idna<4,>=2.5 in c:\\users\\devan\\onedrive\\desktop\\mcq-dev\\env\\lib\\site-packages (from requests<3,>=2->langchain_community) (3.7)\n",
      "Requirement already satisfied: urllib3<3,>=1.21.1 in c:\\users\\devan\\onedrive\\desktop\\mcq-dev\\env\\lib\\site-packages (from requests<3,>=2->langchain_community) (2.2.2)\n",
      "Requirement already satisfied: certifi>=2017.4.17 in c:\\users\\devan\\onedrive\\desktop\\mcq-dev\\env\\lib\\site-packages (from requests<3,>=2->langchain_community) (2024.7.4)\n",
      "Requirement already satisfied: greenlet!=0.4.17 in c:\\users\\devan\\onedrive\\desktop\\mcq-dev\\env\\lib\\site-packages (from SQLAlchemy<3,>=1.4->langchain_community) (3.0.3)\n",
      "Requirement already satisfied: jsonpointer>=1.9 in c:\\users\\devan\\onedrive\\desktop\\mcq-dev\\env\\lib\\site-packages (from jsonpatch<2.0,>=1.33->langchain-core<0.3.0,>=0.2.23->langchain_community) (3.0.0)\n",
      "Requirement already satisfied: annotated-types>=0.4.0 in c:\\users\\devan\\onedrive\\desktop\\mcq-dev\\env\\lib\\site-packages (from pydantic<3,>=1->langchain<0.3.0,>=0.2.9->langchain_community) (0.7.0)\n",
      "Requirement already satisfied: pydantic-core==2.20.1 in c:\\users\\devan\\onedrive\\desktop\\mcq-dev\\env\\lib\\site-packages (from pydantic<3,>=1->langchain<0.3.0,>=0.2.9->langchain_community) (2.20.1)\n",
      "Requirement already satisfied: mypy-extensions>=0.3.0 in c:\\users\\devan\\onedrive\\desktop\\mcq-dev\\env\\lib\\site-packages (from typing-inspect<1,>=0.4.0->dataclasses-json<0.7,>=0.5.7->langchain_community) (1.0.0)\n",
      "Requirement already satisfied: PYPDF2 in c:\\users\\devan\\onedrive\\desktop\\mcq-dev\\env\\lib\\site-packages (3.0.1)\n",
      "Requirement already satisfied: typing_extensions>=3.10.0.0 in c:\\users\\devan\\onedrive\\desktop\\mcq-dev\\env\\lib\\site-packages (from PYPDF2) (4.12.2)\n",
      "Requirement already satisfied: pandas in c:\\users\\devan\\onedrive\\desktop\\mcq-dev\\env\\lib\\site-packages (2.0.3)\n",
      "Requirement already satisfied: python-dateutil>=2.8.2 in c:\\users\\devan\\onedrive\\desktop\\mcq-dev\\env\\lib\\site-packages (from pandas) (2.9.0)\n",
      "Requirement already satisfied: pytz>=2020.1 in c:\\users\\devan\\onedrive\\desktop\\mcq-dev\\env\\lib\\site-packages (from pandas) (2024.1)\n",
      "Requirement already satisfied: tzdata>=2022.1 in c:\\users\\devan\\onedrive\\desktop\\mcq-dev\\env\\lib\\site-packages (from pandas) (2024.1)\n",
      "Requirement already satisfied: numpy>=1.20.3 in c:\\users\\devan\\onedrive\\desktop\\mcq-dev\\env\\lib\\site-packages (from pandas) (1.24.4)\n",
      "Requirement already satisfied: six>=1.5 in c:\\users\\devan\\onedrive\\desktop\\mcq-dev\\env\\lib\\site-packages (from python-dateutil>=2.8.2->pandas) (1.16.0)\n"
     ]
    },
    {
     "name": "stderr",
     "output_type": "stream",
     "text": [
      "ERROR: Could not find a version that satisfies the requirement traceback (from versions: none)\n",
      "ERROR: No matching distribution found for traceback\n"
     ]
    },
    {
     "name": "stdout",
     "output_type": "stream",
     "text": [
      "Requirement already satisfied: python-dotenv in c:\\users\\devan\\onedrive\\desktop\\mcq-dev\\env\\lib\\site-packages (1.0.1)\n",
      "Collecting langchain-openai\n",
      "  Downloading langchain_openai-0.1.20-py3-none-any.whl.metadata (2.6 kB)\n",
      "Requirement already satisfied: langchain-core<0.3.0,>=0.2.26 in c:\\users\\devan\\onedrive\\desktop\\mcq-dev\\env\\lib\\site-packages (from langchain-openai) (0.2.27)\n",
      "Collecting openai<2.0.0,>=1.32.0 (from langchain-openai)\n",
      "  Using cached openai-1.38.0-py3-none-any.whl.metadata (22 kB)\n",
      "Collecting tiktoken<1,>=0.7 (from langchain-openai)\n",
      "  Downloading tiktoken-0.7.0-cp38-cp38-win_amd64.whl.metadata (6.8 kB)\n",
      "Requirement already satisfied: PyYAML>=5.3 in c:\\users\\devan\\onedrive\\desktop\\mcq-dev\\env\\lib\\site-packages (from langchain-core<0.3.0,>=0.2.26->langchain-openai) (6.0.1)\n",
      "Requirement already satisfied: jsonpatch<2.0,>=1.33 in c:\\users\\devan\\onedrive\\desktop\\mcq-dev\\env\\lib\\site-packages (from langchain-core<0.3.0,>=0.2.26->langchain-openai) (1.33)\n",
      "Requirement already satisfied: langsmith<0.2.0,>=0.1.75 in c:\\users\\devan\\onedrive\\desktop\\mcq-dev\\env\\lib\\site-packages (from langchain-core<0.3.0,>=0.2.26->langchain-openai) (0.1.96)\n",
      "Requirement already satisfied: packaging<25,>=23.2 in c:\\users\\devan\\onedrive\\desktop\\mcq-dev\\env\\lib\\site-packages (from langchain-core<0.3.0,>=0.2.26->langchain-openai) (24.1)\n",
      "Requirement already satisfied: pydantic<3,>=1 in c:\\users\\devan\\onedrive\\desktop\\mcq-dev\\env\\lib\\site-packages (from langchain-core<0.3.0,>=0.2.26->langchain-openai) (2.8.2)\n",
      "Requirement already satisfied: tenacity!=8.4.0,<9.0.0,>=8.1.0 in c:\\users\\devan\\onedrive\\desktop\\mcq-dev\\env\\lib\\site-packages (from langchain-core<0.3.0,>=0.2.26->langchain-openai) (8.5.0)\n",
      "Requirement already satisfied: typing-extensions>=4.7 in c:\\users\\devan\\onedrive\\desktop\\mcq-dev\\env\\lib\\site-packages (from langchain-core<0.3.0,>=0.2.26->langchain-openai) (4.12.2)\n",
      "Collecting anyio<5,>=3.5.0 (from openai<2.0.0,>=1.32.0->langchain-openai)\n",
      "  Using cached anyio-4.4.0-py3-none-any.whl.metadata (4.6 kB)\n",
      "Collecting distro<2,>=1.7.0 (from openai<2.0.0,>=1.32.0->langchain-openai)\n",
      "  Using cached distro-1.9.0-py3-none-any.whl.metadata (6.8 kB)\n",
      "Collecting httpx<1,>=0.23.0 (from openai<2.0.0,>=1.32.0->langchain-openai)\n",
      "  Using cached httpx-0.27.0-py3-none-any.whl.metadata (7.2 kB)\n",
      "Collecting sniffio (from openai<2.0.0,>=1.32.0->langchain-openai)\n",
      "  Using cached sniffio-1.3.1-py3-none-any.whl.metadata (3.9 kB)\n",
      "Collecting tqdm>4 (from openai<2.0.0,>=1.32.0->langchain-openai)\n",
      "  Using cached tqdm-4.66.4-py3-none-any.whl.metadata (57 kB)\n",
      "Collecting regex>=2022.1.18 (from tiktoken<1,>=0.7->langchain-openai)\n",
      "  Downloading regex-2024.7.24-cp38-cp38-win_amd64.whl.metadata (41 kB)\n",
      "     ---------------------------------------- 0.0/41.5 kB ? eta -:--:--\n",
      "     ---------------------------------------- 41.5/41.5 kB 1.0 MB/s eta 0:00:00\n",
      "Requirement already satisfied: requests>=2.26.0 in c:\\users\\devan\\onedrive\\desktop\\mcq-dev\\env\\lib\\site-packages (from tiktoken<1,>=0.7->langchain-openai) (2.32.3)\n",
      "Requirement already satisfied: idna>=2.8 in c:\\users\\devan\\onedrive\\desktop\\mcq-dev\\env\\lib\\site-packages (from anyio<5,>=3.5.0->openai<2.0.0,>=1.32.0->langchain-openai) (3.7)\n",
      "Collecting exceptiongroup>=1.0.2 (from anyio<5,>=3.5.0->openai<2.0.0,>=1.32.0->langchain-openai)\n",
      "  Downloading exceptiongroup-1.2.2-py3-none-any.whl.metadata (6.6 kB)\n",
      "Requirement already satisfied: certifi in c:\\users\\devan\\onedrive\\desktop\\mcq-dev\\env\\lib\\site-packages (from httpx<1,>=0.23.0->openai<2.0.0,>=1.32.0->langchain-openai) (2024.7.4)\n",
      "Collecting httpcore==1.* (from httpx<1,>=0.23.0->openai<2.0.0,>=1.32.0->langchain-openai)\n",
      "  Using cached httpcore-1.0.5-py3-none-any.whl.metadata (20 kB)\n",
      "Collecting h11<0.15,>=0.13 (from httpcore==1.*->httpx<1,>=0.23.0->openai<2.0.0,>=1.32.0->langchain-openai)\n",
      "  Using cached h11-0.14.0-py3-none-any.whl.metadata (8.2 kB)\n",
      "Requirement already satisfied: jsonpointer>=1.9 in c:\\users\\devan\\onedrive\\desktop\\mcq-dev\\env\\lib\\site-packages (from jsonpatch<2.0,>=1.33->langchain-core<0.3.0,>=0.2.26->langchain-openai) (3.0.0)\n",
      "Requirement already satisfied: orjson<4.0.0,>=3.9.14 in c:\\users\\devan\\onedrive\\desktop\\mcq-dev\\env\\lib\\site-packages (from langsmith<0.2.0,>=0.1.75->langchain-core<0.3.0,>=0.2.26->langchain-openai) (3.10.6)\n",
      "Requirement already satisfied: annotated-types>=0.4.0 in c:\\users\\devan\\onedrive\\desktop\\mcq-dev\\env\\lib\\site-packages (from pydantic<3,>=1->langchain-core<0.3.0,>=0.2.26->langchain-openai) (0.7.0)\n",
      "Requirement already satisfied: pydantic-core==2.20.1 in c:\\users\\devan\\onedrive\\desktop\\mcq-dev\\env\\lib\\site-packages (from pydantic<3,>=1->langchain-core<0.3.0,>=0.2.26->langchain-openai) (2.20.1)\n",
      "Requirement already satisfied: charset-normalizer<4,>=2 in c:\\users\\devan\\onedrive\\desktop\\mcq-dev\\env\\lib\\site-packages (from requests>=2.26.0->tiktoken<1,>=0.7->langchain-openai) (3.3.2)\n",
      "Requirement already satisfied: urllib3<3,>=1.21.1 in c:\\users\\devan\\onedrive\\desktop\\mcq-dev\\env\\lib\\site-packages (from requests>=2.26.0->tiktoken<1,>=0.7->langchain-openai) (2.2.2)\n",
      "Requirement already satisfied: colorama in c:\\users\\devan\\onedrive\\desktop\\mcq-dev\\env\\lib\\site-packages (from tqdm>4->openai<2.0.0,>=1.32.0->langchain-openai) (0.4.6)\n",
      "Downloading langchain_openai-0.1.20-py3-none-any.whl (48 kB)\n",
      "   ---------------------------------------- 0.0/48.2 kB ? eta -:--:--\n",
      "   ---------------------------------------- 48.2/48.2 kB 2.4 MB/s eta 0:00:00\n",
      "Using cached openai-1.38.0-py3-none-any.whl (335 kB)\n",
      "Downloading tiktoken-0.7.0-cp38-cp38-win_amd64.whl (798 kB)\n",
      "   ---------------------------------------- 0.0/798.9 kB ? eta -:--:--\n",
      "   -------------------------------- ------ 675.8/798.9 kB 14.2 MB/s eta 0:00:01\n",
      "   --------------------------------------- 798.9/798.9 kB 12.7 MB/s eta 0:00:00\n",
      "Using cached anyio-4.4.0-py3-none-any.whl (86 kB)\n",
      "Using cached distro-1.9.0-py3-none-any.whl (20 kB)\n",
      "Using cached httpx-0.27.0-py3-none-any.whl (75 kB)\n",
      "Using cached httpcore-1.0.5-py3-none-any.whl (77 kB)\n",
      "Downloading regex-2024.7.24-cp38-cp38-win_amd64.whl (269 kB)\n",
      "   ---------------------------------------- 0.0/269.7 kB ? eta -:--:--\n",
      "   --------------------------------------- 269.7/269.7 kB 16.2 MB/s eta 0:00:00\n",
      "Using cached sniffio-1.3.1-py3-none-any.whl (10 kB)\n",
      "Using cached tqdm-4.66.4-py3-none-any.whl (78 kB)\n",
      "Downloading exceptiongroup-1.2.2-py3-none-any.whl (16 kB)\n",
      "Using cached h11-0.14.0-py3-none-any.whl (58 kB)\n",
      "Installing collected packages: tqdm, sniffio, regex, h11, exceptiongroup, distro, tiktoken, httpcore, anyio, httpx, openai, langchain-openai\n",
      "Successfully installed anyio-4.4.0 distro-1.9.0 exceptiongroup-1.2.2 h11-0.14.0 httpcore-1.0.5 httpx-0.27.0 langchain-openai-0.1.20 openai-1.38.0 regex-2024.7.24 sniffio-1.3.1 tiktoken-0.7.0 tqdm-4.66.4\n"
     ]
    }
   ],
   "source": [
    "\n",
    "import os\n",
    "!pip install langchain\n",
    "!pip install langchain_community\n",
    "!pip install PYPDF2\n",
    "!pip install pandas\n",
    "!pip install traceback\n",
    "!pip install python-dotenv\n",
    "!pip install -U langchain-openai"
   ]
  },
  {
   "cell_type": "code",
   "execution_count": 11,
   "metadata": {},
   "outputs": [
    {
     "data": {
      "text/plain": [
       "True"
      ]
     },
     "execution_count": 11,
     "metadata": {},
     "output_type": "execute_result"
    }
   ],
   "source": [
    "from dotenv import load_dotenv\n",
    "load_dotenv()"
   ]
  },
  {
   "cell_type": "code",
   "execution_count": 15,
   "metadata": {},
   "outputs": [],
   "source": [
    "from langchain.llms import OpenAI\n",
    "from langchain.prompts import PromptTemplate\n",
    "from langchain.chains import LLMChain\n",
    "from langchain.chains import SequentialChain\n",
    "from langchain.callbacks import get_openai_callback\n",
    "from langchain_openai import ChatOpenAI\n",
    "import json\n",
    "import pandas as pd\n",
    "import traceback\n"
   ]
  },
  {
   "cell_type": "code",
   "execution_count": 16,
   "metadata": {},
   "outputs": [],
   "source": [
    "from langchain.chat_models import ChatOpenAI"
   ]
  },
  {
   "cell_type": "code",
   "execution_count": 17,
   "metadata": {},
   "outputs": [],
   "source": [
    "KEY=os.getenv(\"OPENAI_API_KEY\")"
   ]
  },
  {
   "cell_type": "code",
   "execution_count": 18,
   "metadata": {},
   "outputs": [],
   "source": [
    "\n",
    "llm=ChatOpenAI(openai_api_key=KEY,model_name=\"gpt-3.5-turbo\", temperature=0.5)"
   ]
  },
  {
   "cell_type": "code",
   "execution_count": 19,
   "metadata": {},
   "outputs": [
    {
     "data": {
      "text/plain": [
       "ChatOpenAI(client=<openai.resources.chat.completions.Completions object at 0x0000019607C1CBE0>, async_client=<openai.resources.chat.completions.AsyncCompletions object at 0x0000019607C2B5B0>, temperature=0.5, openai_api_key='sk-qSIt8l8w73AHQZpe0io7CB554DxDGOFhPPF2wN1SQdT3BlbkFJX0zBh32ZyqNZOuw60OSLg3a9YoMbY8LtTu6OfWUg4A', openai_proxy='')"
      ]
     },
     "execution_count": 19,
     "metadata": {},
     "output_type": "execute_result"
    }
   ],
   "source": [
    "llm"
   ]
  },
  {
   "cell_type": "code",
   "execution_count": 21,
   "metadata": {},
   "outputs": [],
   "source": [
    "RESPONSE_JSON = {\n",
    "    \"1\": {\n",
    "        \"mcq\": \"multiple choice question\",\n",
    "        \"options\": {\n",
    "            \"a\": \"choice here\",\n",
    "            \"b\": \"choice here\",\n",
    "            \"c\": \"choice here\",\n",
    "            \"d\": \"choice here\",\n",
    "        },\n",
    "        \"correct\": \"correct answer\",\n",
    "    },\n",
    "    \"2\": {\n",
    "        \"mcq\": \"multiple choice question\",\n",
    "        \"options\": {\n",
    "            \"a\": \"choice here\",\n",
    "            \"b\": \"choice here\",\n",
    "            \"c\": \"choice here\",\n",
    "            \"d\": \"choice here\",\n",
    "        },\n",
    "        \"correct\": \"correct answer\",\n",
    "    },\n",
    "    \"3\": {\n",
    "        \"mcq\": \"multiple choice question\",\n",
    "        \"options\": {\n",
    "            \"a\": \"choice here\",\n",
    "            \"b\": \"choice here\",\n",
    "            \"c\": \"choice here\",\n",
    "            \"d\": \"choice here\",\n",
    "        },\n",
    "        \"correct\": \"correct answer\",\n",
    "    },\n",
    "}"
   ]
  },
  {
   "cell_type": "code",
   "execution_count": 22,
   "metadata": {},
   "outputs": [],
   "source": [
    "TEMPLATE=\"\"\"\n",
    "Text:{text}\n",
    "You are an expert MCQ maker. Given the above text, it is your job to \\\n",
    "create a quiz  of {number} multiple choice questions for {subject} students in {tone} tone. \n",
    "Make sure the questions are not repeated and check all the questions to be conforming the text as well.\n",
    "Make sure to format your response like  RESPONSE_JSON below  and use it as a guide. \\\n",
    "Ensure to make {number} MCQs\n",
    "### RESPONSE_JSON\n",
    "{response_json}\n",
    "\n",
    "\"\"\""
   ]
  },
  {
   "cell_type": "code",
   "execution_count": 23,
   "metadata": {},
   "outputs": [],
   "source": [
    "quiz_generation_prompt = PromptTemplate(\n",
    "    input_variables=[\"text\", \"number\", \"subject\", \"tone\", \"response_json\"],\n",
    "    template=TEMPLATE\n",
    "    )"
   ]
  },
  {
   "cell_type": "code",
   "execution_count": 24,
   "metadata": {},
   "outputs": [
    {
     "name": "stderr",
     "output_type": "stream",
     "text": [
      "c:\\Users\\devan\\OneDrive\\Desktop\\MCQ-dev\\env\\lib\\site-packages\\langchain_core\\_api\\deprecation.py:139: LangChainDeprecationWarning: The class `LLMChain` was deprecated in LangChain 0.1.17 and will be removed in 1.0. Use RunnableSequence, e.g., `prompt | llm` instead.\n",
      "  warn_deprecated(\n"
     ]
    }
   ],
   "source": [
    "quiz_chain=LLMChain(llm=llm, prompt=quiz_generation_prompt, output_key=\"quiz\", verbose=True)"
   ]
  },
  {
   "cell_type": "code",
   "execution_count": 25,
   "metadata": {},
   "outputs": [],
   "source": [
    "TEMPLATE2=\"\"\"\n",
    "You are an expert english grammarian and writer. Given a Multiple Choice Quiz for {subject} students.\\\n",
    "You need to evaluate the complexity of the question and give a complete analysis of the quiz. Only use at max 50 words for complexity analysis. \n",
    "if the quiz is not at per with the cognitive and analytical abilities of the students,\\\n",
    "update the quiz questions which needs to be changed and change the tone such that it perfectly fits the student abilities\n",
    "Quiz_MCQs:\n",
    "{quiz}\n",
    "\n",
    "Check from an expert English Writer of the above quiz:\n",
    "\"\"\""
   ]
  },
  {
   "cell_type": "code",
   "execution_count": 26,
   "metadata": {},
   "outputs": [],
   "source": [
    "quiz_evaluation_prompt=PromptTemplate(input_variables=[\"subject\", \"quiz\"], template=TEMPLATE)"
   ]
  },
  {
   "cell_type": "code",
   "execution_count": 27,
   "metadata": {},
   "outputs": [],
   "source": [
    "review_chain=LLMChain(llm=llm, prompt=quiz_evaluation_prompt, output_key=\"review\", verbose=True)"
   ]
  },
  {
   "cell_type": "code",
   "execution_count": 28,
   "metadata": {},
   "outputs": [],
   "source": [
    "generate_evaluate_chain=SequentialChain(chains=[quiz_chain, review_chain], input_variables=[\"text\", \"number\", \"subject\", \"tone\", \"response_json\"],\n",
    "                                        output_variables=[\"quiz\", \"review\"], verbose=True,)"
   ]
  },
  {
   "cell_type": "code",
   "execution_count": 29,
   "metadata": {},
   "outputs": [],
   "source": [
    "file_path=r\"C:\\Users\\devan\\OneDrive\\Desktop\\MCQ-dev\\data.txt\""
   ]
  },
  {
   "cell_type": "code",
   "execution_count": 30,
   "metadata": {},
   "outputs": [],
   "source": [
    "with open(file_path, 'r') as file:\n",
    "    TEXT = file.read()"
   ]
  },
  {
   "cell_type": "code",
   "execution_count": 31,
   "metadata": {},
   "outputs": [
    {
     "name": "stdout",
     "output_type": "stream",
     "text": [
      "Machine learning is a subset of artificial intelligence (AI) that focuses on the development of algorithms and statistical models that enable computers to perform tasks without explicit instructions. It involves the use of patterns and inference drawn from data to allow systems to learn and improve from experience. This approach contrasts with traditional programming, where specific instructions are provided for every task. Instead, machine learning models identify patterns in data and make decisions based on those patterns.\n",
      "\n",
      "Supervised learning is one of the primary types of machine learning. In supervised learning, models are trained on labeled data, meaning the input data is paired with the correct output. The model learns to map inputs to outputs by identifying patterns in the training data. Examples of supervised learning algorithms include linear regression, logistic regression, decision trees, and support vector machines. These techniques are widely used in applications such as image and speech recognition, spam detection, and predictive analytics.\n",
      "\n",
      "Unsupervised learning, another major category, involves training models on unlabeled data. The algorithm must identify patterns and relationships within the data without any guidance on what the correct output should be. Clustering and association are common unsupervised learning techniques. Clustering algorithms, like k-means, group similar data points together, while association algorithms, like the apriori algorithm, find rules that describe large portions of the data. Applications of unsupervised learning include market basket analysis, customer segmentation, and anomaly detection.\n",
      "\n",
      "Reinforcement learning is a distinct type of machine learning where an agent learns to make decisions by performing actions and receiving rewards or penalties based on those actions. This approach is akin to trial and error, where the agent aims to maximize cumulative rewards over time. Notable examples of reinforcement learning algorithms include Q-learning and deep Q-networks (DQN). Reinforcement learning has seen significant success in fields such as robotics, gaming (e.g., AlphaGo), and autonomous vehicles.\n",
      "\n",
      "Neural networks and deep learning have revolutionized machine learning by enabling the processing of complex data structures. Neural networks are algorithms inspired by the human brain's structure and function, designed to recognize patterns. Deep learning refers to neural networks with many layers, known as deep neural networks. These models have excelled in tasks like image and speech recognition, natural language processing (NLP), and medical diagnosis. Convolutional neural networks (CNNs) are particularly effective for image processing, while recurrent neural networks (RNNs) are suitable for sequence data.\n",
      "\n",
      "Evaluating and validating machine learning models is crucial to ensure their effectiveness and reliability. Techniques such as cross-validation, confusion matrices, precision, recall, F1 score, ROC curves, and AUC are commonly used to assess model performance. These methods help ensure that models are accurate and generalize well to new, unseen data, rather than just memorizing the training data.\n",
      "\n",
      "Machine learning has a wide range of applications across various industries. In healthcare, it is used for predicting disease outbreaks, analyzing medical images, and creating personalized treatment plans. In finance, machine learning helps detect fraud, predict stock market trends, and assess credit risk. Marketing professionals use machine learning for customer segmentation, recommendation systems, and targeted advertising. The transportation sector benefits from applications like autonomous driving, traffic prediction, and route optimization. In manufacturing, machine learning enhances predictive maintenance, quality control, and supply chain optimization.\n",
      "\n",
      "Despite its transformative potential, machine learning faces several challenges. One significant issue is the need for large, high-quality datasets to train effective models. Additionally, complex models can be difficult to interpret, making it hard to understand how they make decisions. Overfitting and underfitting are common problems, where models either become too tailored to the training data or fail to capture the underlying patterns. Furthermore, training complex models often requires substantial computational resources.\n",
      "\n",
      "In summary, machine learning is a rapidly evolving field with the power to transform industries by providing intelligent solutions to complex problems. Its ability to learn from data and improve over time makes it a crucial component of modern technology, driving advancements in various domains and shaping the future of artificial intelligence.\n"
     ]
    }
   ],
   "source": [
    "print(TEXT)"
   ]
  },
  {
   "cell_type": "code",
   "execution_count": 32,
   "metadata": {},
   "outputs": [
    {
     "data": {
      "text/plain": [
       "'{\"1\": {\"mcq\": \"multiple choice question\", \"options\": {\"a\": \"choice here\", \"b\": \"choice here\", \"c\": \"choice here\", \"d\": \"choice here\"}, \"correct\": \"correct answer\"}, \"2\": {\"mcq\": \"multiple choice question\", \"options\": {\"a\": \"choice here\", \"b\": \"choice here\", \"c\": \"choice here\", \"d\": \"choice here\"}, \"correct\": \"correct answer\"}, \"3\": {\"mcq\": \"multiple choice question\", \"options\": {\"a\": \"choice here\", \"b\": \"choice here\", \"c\": \"choice here\", \"d\": \"choice here\"}, \"correct\": \"correct answer\"}}'"
      ]
     },
     "execution_count": 32,
     "metadata": {},
     "output_type": "execute_result"
    }
   ],
   "source": [
    "json.dumps(RESPONSE_JSON)"
   ]
  },
  {
   "cell_type": "code",
   "execution_count": 36,
   "metadata": {},
   "outputs": [],
   "source": [
    "NUMBER=5 \n",
    "SUBJECT=\"machine learning\"\n",
    "TONE=\"simple\"\n"
   ]
  },
  {
   "cell_type": "code",
   "execution_count": 37,
   "metadata": {},
   "outputs": [
    {
     "name": "stdout",
     "output_type": "stream",
     "text": [
      "\n",
      "\n",
      "\u001b[1m> Entering new SequentialChain chain...\u001b[0m\n",
      "\n",
      "\n",
      "\u001b[1m> Entering new LLMChain chain...\u001b[0m\n",
      "Prompt after formatting:\n",
      "\u001b[32;1m\u001b[1;3m\n",
      "Text:Machine learning is a subset of artificial intelligence (AI) that focuses on the development of algorithms and statistical models that enable computers to perform tasks without explicit instructions. It involves the use of patterns and inference drawn from data to allow systems to learn and improve from experience. This approach contrasts with traditional programming, where specific instructions are provided for every task. Instead, machine learning models identify patterns in data and make decisions based on those patterns.\n",
      "\n",
      "Supervised learning is one of the primary types of machine learning. In supervised learning, models are trained on labeled data, meaning the input data is paired with the correct output. The model learns to map inputs to outputs by identifying patterns in the training data. Examples of supervised learning algorithms include linear regression, logistic regression, decision trees, and support vector machines. These techniques are widely used in applications such as image and speech recognition, spam detection, and predictive analytics.\n",
      "\n",
      "Unsupervised learning, another major category, involves training models on unlabeled data. The algorithm must identify patterns and relationships within the data without any guidance on what the correct output should be. Clustering and association are common unsupervised learning techniques. Clustering algorithms, like k-means, group similar data points together, while association algorithms, like the apriori algorithm, find rules that describe large portions of the data. Applications of unsupervised learning include market basket analysis, customer segmentation, and anomaly detection.\n",
      "\n",
      "Reinforcement learning is a distinct type of machine learning where an agent learns to make decisions by performing actions and receiving rewards or penalties based on those actions. This approach is akin to trial and error, where the agent aims to maximize cumulative rewards over time. Notable examples of reinforcement learning algorithms include Q-learning and deep Q-networks (DQN). Reinforcement learning has seen significant success in fields such as robotics, gaming (e.g., AlphaGo), and autonomous vehicles.\n",
      "\n",
      "Neural networks and deep learning have revolutionized machine learning by enabling the processing of complex data structures. Neural networks are algorithms inspired by the human brain's structure and function, designed to recognize patterns. Deep learning refers to neural networks with many layers, known as deep neural networks. These models have excelled in tasks like image and speech recognition, natural language processing (NLP), and medical diagnosis. Convolutional neural networks (CNNs) are particularly effective for image processing, while recurrent neural networks (RNNs) are suitable for sequence data.\n",
      "\n",
      "Evaluating and validating machine learning models is crucial to ensure their effectiveness and reliability. Techniques such as cross-validation, confusion matrices, precision, recall, F1 score, ROC curves, and AUC are commonly used to assess model performance. These methods help ensure that models are accurate and generalize well to new, unseen data, rather than just memorizing the training data.\n",
      "\n",
      "Machine learning has a wide range of applications across various industries. In healthcare, it is used for predicting disease outbreaks, analyzing medical images, and creating personalized treatment plans. In finance, machine learning helps detect fraud, predict stock market trends, and assess credit risk. Marketing professionals use machine learning for customer segmentation, recommendation systems, and targeted advertising. The transportation sector benefits from applications like autonomous driving, traffic prediction, and route optimization. In manufacturing, machine learning enhances predictive maintenance, quality control, and supply chain optimization.\n",
      "\n",
      "Despite its transformative potential, machine learning faces several challenges. One significant issue is the need for large, high-quality datasets to train effective models. Additionally, complex models can be difficult to interpret, making it hard to understand how they make decisions. Overfitting and underfitting are common problems, where models either become too tailored to the training data or fail to capture the underlying patterns. Furthermore, training complex models often requires substantial computational resources.\n",
      "\n",
      "In summary, machine learning is a rapidly evolving field with the power to transform industries by providing intelligent solutions to complex problems. Its ability to learn from data and improve over time makes it a crucial component of modern technology, driving advancements in various domains and shaping the future of artificial intelligence.\n",
      "You are an expert MCQ maker. Given the above text, it is your job to create a quiz  of 5 multiple choice questions for machine learning students in simple tone. \n",
      "Make sure the questions are not repeated and check all the questions to be conforming the text as well.\n",
      "Make sure to format your response like  RESPONSE_JSON below  and use it as a guide. Ensure to make 5 MCQs\n",
      "### RESPONSE_JSON\n",
      "{\"1\": {\"mcq\": \"multiple choice question\", \"options\": {\"a\": \"choice here\", \"b\": \"choice here\", \"c\": \"choice here\", \"d\": \"choice here\"}, \"correct\": \"correct answer\"}, \"2\": {\"mcq\": \"multiple choice question\", \"options\": {\"a\": \"choice here\", \"b\": \"choice here\", \"c\": \"choice here\", \"d\": \"choice here\"}, \"correct\": \"correct answer\"}, \"3\": {\"mcq\": \"multiple choice question\", \"options\": {\"a\": \"choice here\", \"b\": \"choice here\", \"c\": \"choice here\", \"d\": \"choice here\"}, \"correct\": \"correct answer\"}}\n",
      "\n",
      "\u001b[0m\n",
      "\n",
      "\u001b[1m> Finished chain.\u001b[0m\n",
      "\n",
      "\n",
      "\u001b[1m> Entering new LLMChain chain...\u001b[0m\n",
      "Prompt after formatting:\n",
      "\u001b[32;1m\u001b[1;3m\n",
      "Text:Machine learning is a subset of artificial intelligence (AI) that focuses on the development of algorithms and statistical models that enable computers to perform tasks without explicit instructions. It involves the use of patterns and inference drawn from data to allow systems to learn and improve from experience. This approach contrasts with traditional programming, where specific instructions are provided for every task. Instead, machine learning models identify patterns in data and make decisions based on those patterns.\n",
      "\n",
      "Supervised learning is one of the primary types of machine learning. In supervised learning, models are trained on labeled data, meaning the input data is paired with the correct output. The model learns to map inputs to outputs by identifying patterns in the training data. Examples of supervised learning algorithms include linear regression, logistic regression, decision trees, and support vector machines. These techniques are widely used in applications such as image and speech recognition, spam detection, and predictive analytics.\n",
      "\n",
      "Unsupervised learning, another major category, involves training models on unlabeled data. The algorithm must identify patterns and relationships within the data without any guidance on what the correct output should be. Clustering and association are common unsupervised learning techniques. Clustering algorithms, like k-means, group similar data points together, while association algorithms, like the apriori algorithm, find rules that describe large portions of the data. Applications of unsupervised learning include market basket analysis, customer segmentation, and anomaly detection.\n",
      "\n",
      "Reinforcement learning is a distinct type of machine learning where an agent learns to make decisions by performing actions and receiving rewards or penalties based on those actions. This approach is akin to trial and error, where the agent aims to maximize cumulative rewards over time. Notable examples of reinforcement learning algorithms include Q-learning and deep Q-networks (DQN). Reinforcement learning has seen significant success in fields such as robotics, gaming (e.g., AlphaGo), and autonomous vehicles.\n",
      "\n",
      "Neural networks and deep learning have revolutionized machine learning by enabling the processing of complex data structures. Neural networks are algorithms inspired by the human brain's structure and function, designed to recognize patterns. Deep learning refers to neural networks with many layers, known as deep neural networks. These models have excelled in tasks like image and speech recognition, natural language processing (NLP), and medical diagnosis. Convolutional neural networks (CNNs) are particularly effective for image processing, while recurrent neural networks (RNNs) are suitable for sequence data.\n",
      "\n",
      "Evaluating and validating machine learning models is crucial to ensure their effectiveness and reliability. Techniques such as cross-validation, confusion matrices, precision, recall, F1 score, ROC curves, and AUC are commonly used to assess model performance. These methods help ensure that models are accurate and generalize well to new, unseen data, rather than just memorizing the training data.\n",
      "\n",
      "Machine learning has a wide range of applications across various industries. In healthcare, it is used for predicting disease outbreaks, analyzing medical images, and creating personalized treatment plans. In finance, machine learning helps detect fraud, predict stock market trends, and assess credit risk. Marketing professionals use machine learning for customer segmentation, recommendation systems, and targeted advertising. The transportation sector benefits from applications like autonomous driving, traffic prediction, and route optimization. In manufacturing, machine learning enhances predictive maintenance, quality control, and supply chain optimization.\n",
      "\n",
      "Despite its transformative potential, machine learning faces several challenges. One significant issue is the need for large, high-quality datasets to train effective models. Additionally, complex models can be difficult to interpret, making it hard to understand how they make decisions. Overfitting and underfitting are common problems, where models either become too tailored to the training data or fail to capture the underlying patterns. Furthermore, training complex models often requires substantial computational resources.\n",
      "\n",
      "In summary, machine learning is a rapidly evolving field with the power to transform industries by providing intelligent solutions to complex problems. Its ability to learn from data and improve over time makes it a crucial component of modern technology, driving advancements in various domains and shaping the future of artificial intelligence.\n",
      "You are an expert MCQ maker. Given the above text, it is your job to create a quiz  of 5 multiple choice questions for machine learning students in simple tone. \n",
      "Make sure the questions are not repeated and check all the questions to be conforming the text as well.\n",
      "Make sure to format your response like  RESPONSE_JSON below  and use it as a guide. Ensure to make 5 MCQs\n",
      "### RESPONSE_JSON\n",
      "{\"1\": {\"mcq\": \"multiple choice question\", \"options\": {\"a\": \"choice here\", \"b\": \"choice here\", \"c\": \"choice here\", \"d\": \"choice here\"}, \"correct\": \"correct answer\"}, \"2\": {\"mcq\": \"multiple choice question\", \"options\": {\"a\": \"choice here\", \"b\": \"choice here\", \"c\": \"choice here\", \"d\": \"choice here\"}, \"correct\": \"correct answer\"}, \"3\": {\"mcq\": \"multiple choice question\", \"options\": {\"a\": \"choice here\", \"b\": \"choice here\", \"c\": \"choice here\", \"d\": \"choice here\"}, \"correct\": \"correct answer\"}}\n",
      "\n",
      "\u001b[0m\n",
      "\n",
      "\u001b[1m> Finished chain.\u001b[0m\n",
      "\n",
      "\u001b[1m> Finished chain.\u001b[0m\n"
     ]
    }
   ],
   "source": [
    "with get_openai_callback() as cb:\n",
    "    response=generate_evaluate_chain(\n",
    "        {\n",
    "            \"text\": TEXT,\n",
    "            \"number\": NUMBER,\n",
    "            \"subject\":SUBJECT,\n",
    "            \"tone\": TONE,\n",
    "            \"response_json\": json.dumps(RESPONSE_JSON)\n",
    "        }\n",
    "        )"
   ]
  },
  {
   "cell_type": "code",
   "execution_count": 38,
   "metadata": {},
   "outputs": [
    {
     "name": "stdout",
     "output_type": "stream",
     "text": [
      "Total Tokens:2948\n",
      "Prompt Tokens:2114\n",
      "Completion Tokens:834\n",
      "Total Cost:0.0048389999999999996\n"
     ]
    }
   ],
   "source": [
    "-/\\\\\\\\\\\\\\\\\\\\\\\\]]]]]]]]]]]]]]]]]]]]]]]]]]]]]]]]]]]]]]]]]]]]]]]]]]]]]]]]]]]]]]]]]]]]]]]]]]]]]]]]]]]]]]]]]]]]]]]]]]]]]]]]]]]]]]]]]]]]]]]]]]]]]]]]]]]]]]]]]]]]]]]]]]]]]]]]]]]]]]]]]]]]]]]]]]]]]]]]]]]]]]]]]]]]]]]]]]]]]]]]]]]]]]]]]]]]]]]]]]]]]]]]]]]]]]]]]]]]]]]]]]]]]]]]]]]]]]]]]]]]]]]]]]]]]]]]]]]]]]]]]]]]]]]]]]]]]]]]]]]]]]]]]]]]]]]]]]]]]]]]]]]]]]]]]]]]]]]]]]]]]]]]]]]]]]]]]]]]]]]]]]]]]]]]]]]]]]]]]]]]]]]]]]]]]]]]]]]]]]]]]]]]]]]]]]]]]]]]]]]]]]]]]]]]]]]]]]]]]]]]]]]]]]]]]]]]]]]]]]]]]]]]]]]]]]]]]]]]]]]]]]]]]]]]]]]]]]]]]]]]]]]]]]]]]]]]]]]]]]]]]]]]]]]]]]]]]]]]]]]]]]]]]]]]]]]]]]]]]]]]]]]]]]]]]]]]]]]]]]]]]]]]]]]]]]]]]]]]]]]]]]]]]]]]]]]]]]]]]]]]]]]]]]]]]]]]]]]]]]]]]]]]]]]]]]]]]]]]]]]]]]]]]]]]]]]]]]]]]]]]]]]]]]]]]]]]]]]]]]]]]]]]]]]]]]]]]]]]]]]]]]]]]]]]]]]]]]]]]]]]]]]]]]]]]]]]]]]]]]]]]]]]]]]]]]]]]]]]]]]]]]]]]]]]]]]]]]]]]]]]]]]]]]]]]]]]]]]]]]]]]]]]]]]]]]]]]]]]]]]]]]]]]]]]]]]]]]]]]]]]]]]]]]]]]]]]]]]]]]]]]]]]]]98op';p;"
   ]
  },
  {
   "cell_type": "code",
   "execution_count": 39,
   "metadata": {},
   "outputs": [
    {
     "data": {
      "text/plain": [
       "{'text': \"Machine learning is a subset of artificial intelligence (AI) that focuses on the development of algorithms and statistical models that enable computers to perform tasks without explicit instructions. It involves the use of patterns and inference drawn from data to allow systems to learn and improve from experience. This approach contrasts with traditional programming, where specific instructions are provided for every task. Instead, machine learning models identify patterns in data and make decisions based on those patterns.\\n\\nSupervised learning is one of the primary types of machine learning. In supervised learning, models are trained on labeled data, meaning the input data is paired with the correct output. The model learns to map inputs to outputs by identifying patterns in the training data. Examples of supervised learning algorithms include linear regression, logistic regression, decision trees, and support vector machines. These techniques are widely used in applications such as image and speech recognition, spam detection, and predictive analytics.\\n\\nUnsupervised learning, another major category, involves training models on unlabeled data. The algorithm must identify patterns and relationships within the data without any guidance on what the correct output should be. Clustering and association are common unsupervised learning techniques. Clustering algorithms, like k-means, group similar data points together, while association algorithms, like the apriori algorithm, find rules that describe large portions of the data. Applications of unsupervised learning include market basket analysis, customer segmentation, and anomaly detection.\\n\\nReinforcement learning is a distinct type of machine learning where an agent learns to make decisions by performing actions and receiving rewards or penalties based on those actions. This approach is akin to trial and error, where the agent aims to maximize cumulative rewards over time. Notable examples of reinforcement learning algorithms include Q-learning and deep Q-networks (DQN). Reinforcement learning has seen significant success in fields such as robotics, gaming (e.g., AlphaGo), and autonomous vehicles.\\n\\nNeural networks and deep learning have revolutionized machine learning by enabling the processing of complex data structures. Neural networks are algorithms inspired by the human brain's structure and function, designed to recognize patterns. Deep learning refers to neural networks with many layers, known as deep neural networks. These models have excelled in tasks like image and speech recognition, natural language processing (NLP), and medical diagnosis. Convolutional neural networks (CNNs) are particularly effective for image processing, while recurrent neural networks (RNNs) are suitable for sequence data.\\n\\nEvaluating and validating machine learning models is crucial to ensure their effectiveness and reliability. Techniques such as cross-validation, confusion matrices, precision, recall, F1 score, ROC curves, and AUC are commonly used to assess model performance. These methods help ensure that models are accurate and generalize well to new, unseen data, rather than just memorizing the training data.\\n\\nMachine learning has a wide range of applications across various industries. In healthcare, it is used for predicting disease outbreaks, analyzing medical images, and creating personalized treatment plans. In finance, machine learning helps detect fraud, predict stock market trends, and assess credit risk. Marketing professionals use machine learning for customer segmentation, recommendation systems, and targeted advertising. The transportation sector benefits from applications like autonomous driving, traffic prediction, and route optimization. In manufacturing, machine learning enhances predictive maintenance, quality control, and supply chain optimization.\\n\\nDespite its transformative potential, machine learning faces several challenges. One significant issue is the need for large, high-quality datasets to train effective models. Additionally, complex models can be difficult to interpret, making it hard to understand how they make decisions. Overfitting and underfitting are common problems, where models either become too tailored to the training data or fail to capture the underlying patterns. Furthermore, training complex models often requires substantial computational resources.\\n\\nIn summary, machine learning is a rapidly evolving field with the power to transform industries by providing intelligent solutions to complex problems. Its ability to learn from data and improve over time makes it a crucial component of modern technology, driving advancements in various domains and shaping the future of artificial intelligence.\",\n",
       " 'number': 5,\n",
       " 'subject': 'machine learning',\n",
       " 'tone': 'simple',\n",
       " 'response_json': '{\"1\": {\"mcq\": \"multiple choice question\", \"options\": {\"a\": \"choice here\", \"b\": \"choice here\", \"c\": \"choice here\", \"d\": \"choice here\"}, \"correct\": \"correct answer\"}, \"2\": {\"mcq\": \"multiple choice question\", \"options\": {\"a\": \"choice here\", \"b\": \"choice here\", \"c\": \"choice here\", \"d\": \"choice here\"}, \"correct\": \"correct answer\"}, \"3\": {\"mcq\": \"multiple choice question\", \"options\": {\"a\": \"choice here\", \"b\": \"choice here\", \"c\": \"choice here\", \"d\": \"choice here\"}, \"correct\": \"correct answer\"}}',\n",
       " 'quiz': '\\n{\\n  \"1\": {\\n    \"mcq\": \"What is the primary focus of machine learning?\",\\n    \"options\": {\\n      \"a\": \"Developing software applications\",\\n      \"b\": \"Creating algorithms and statistical models\",\\n      \"c\": \"Providing explicit instructions to computers\",\\n      \"d\": \"Building hardware components\"\\n    },\\n    \"correct\": \"b\"\\n  },\\n  \"2\": {\\n    \"mcq\": \"Which type of machine learning involves training models on labeled data?\",\\n    \"options\": {\\n      \"a\": \"Supervised learning\",\\n      \"b\": \"Unsupervised learning\",\\n      \"c\": \"Reinforcement learning\",\\n      \"d\": \"Deep learning\"\\n    },\\n    \"correct\": \"a\"\\n  },\\n  \"3\": {\\n    \"mcq\": \"What is the goal of reinforcement learning?\",\\n    \"options\": {\\n      \"a\": \"Identifying patterns in data\",\\n      \"b\": \"Maximizing cumulative rewards over time\",\\n      \"c\": \"Training models on labeled data\",\\n      \"d\": \"Detecting fraud in financial transactions\"\\n    },\\n    \"correct\": \"b\"\\n  },\\n  \"4\": {\\n    \"mcq\": \"Which type of neural network is particularly effective for image processing?\",\\n    \"options\": {\\n      \"a\": \"Recurrent neural networks (RNNs)\",\\n      \"b\": \"Convolutional neural networks (CNNs)\",\\n      \"c\": \"Deep neural networks\",\\n      \"d\": \"Q-learning networks\"\\n    },\\n    \"correct\": \"b\"\\n  },\\n  \"5\": {\\n    \"mcq\": \"What is a common challenge faced in machine learning related to the training of models?\",\\n    \"options\": {\\n      \"a\": \"Lack of computational resources\",\\n      \"b\": \"Difficulty in interpreting complex models\",\\n      \"c\": \"Overfitting and underfitting\",\\n      \"d\": \"Using small, low-quality datasets\"\\n    },\\n    \"correct\": \"c\"\\n  }\\n}',\n",
       " 'review': '{\\n  \"1\": {\\n    \"mcq\": \"What is the primary focus of machine learning?\",\\n    \"options\": {\\n      \"a\": \"Developing algorithms for computers to perform tasks with explicit instructions\",\\n      \"b\": \"Enabling computers to learn and improve from experience\",\\n      \"c\": \"Providing specific instructions for every task\",\\n      \"d\": \"Drawing patterns from data without inference\"\\n    },\\n    \"correct\": \"b\"\\n  },\\n  \"2\": {\\n    \"mcq\": \"Which type of machine learning involves training models on labeled data?\",\\n    \"options\": {\\n      \"a\": \"Unsupervised learning\",\\n      \"b\": \"Reinforcement learning\",\\n      \"c\": \"Supervised learning\",\\n      \"d\": \"Deep learning\"\\n    },\\n    \"correct\": \"c\"\\n  },\\n  \"3\": {\\n    \"mcq\": \"What is the goal of reinforcement learning?\",\\n    \"options\": {\\n      \"a\": \"Identifying patterns in data\",\\n      \"b\": \"Maximizing cumulative rewards over time\",\\n      \"c\": \"Training models on unlabeled data\",\\n      \"d\": \"Creating personalized treatment plans\"\\n    },\\n    \"correct\": \"b\"\\n  },\\n  \"4\": {\\n    \"mcq\": \"Which type of neural network is effective for image processing?\",\\n    \"options\": {\\n      \"a\": \"Recurrent neural networks (RNNs)\",\\n      \"b\": \"Deep neural networks\",\\n      \"c\": \"Convolutional neural networks (CNNs)\",\\n      \"d\": \"Q-learning\"\\n    },\\n    \"correct\": \"c\"\\n  },\\n  \"5\": {\\n    \"mcq\": \"What is a common challenge in machine learning related to training data?\",\\n    \"options\": {\\n      \"a\": \"Interpreting complex models\",\\n      \"b\": \"Overfitting and underfitting\",\\n      \"c\": \"Understanding how models make decisions\",\\n      \"d\": \"Not requiring large datasets\"\\n    },\\n    \"correct\": \"b\"\\n  }\\n}'}"
      ]
     },
     "execution_count": 39,
     "metadata": {},
     "output_type": "execute_result"
    }
   ],
   "source": [
    "response"
   ]
  },
  {
   "cell_type": "code",
   "execution_count": 40,
   "metadata": {},
   "outputs": [],
   "source": [
    "quiz=response.get(\"quiz\")"
   ]
  },
  {
   "cell_type": "code",
   "execution_count": 41,
   "metadata": {},
   "outputs": [],
   "source": [
    "quiz=json.loads(quiz)"
   ]
  },
  {
   "cell_type": "code",
   "execution_count": 42,
   "metadata": {},
   "outputs": [],
   "source": [
    "quiz_table_data = []\n",
    "for key, value in quiz.items():\n",
    "    mcq = value[\"mcq\"]\n",
    "    options = \" | \".join(\n",
    "        [\n",
    "            f\"{option}: {option_value}\"\n",
    "            for option, option_value in value[\"options\"].items()\n",
    "            ]\n",
    "        )\n",
    "    correct = value[\"correct\"]\n",
    "    quiz_table_data.append({\"MCQ\": mcq, \"Choices\": options, \"Correct\": correct})"
   ]
  },
  {
   "cell_type": "code",
   "execution_count": 43,
   "metadata": {},
   "outputs": [
    {
     "data": {
      "text/plain": [
       "[{'MCQ': 'What is the primary focus of machine learning?',\n",
       "  'Choices': 'a: Developing software applications | b: Creating algorithms and statistical models | c: Providing explicit instructions to computers | d: Building hardware components',\n",
       "  'Correct': 'b'},\n",
       " {'MCQ': 'Which type of machine learning involves training models on labeled data?',\n",
       "  'Choices': 'a: Supervised learning | b: Unsupervised learning | c: Reinforcement learning | d: Deep learning',\n",
       "  'Correct': 'a'},\n",
       " {'MCQ': 'What is the goal of reinforcement learning?',\n",
       "  'Choices': 'a: Identifying patterns in data | b: Maximizing cumulative rewards over time | c: Training models on labeled data | d: Detecting fraud in financial transactions',\n",
       "  'Correct': 'b'},\n",
       " {'MCQ': 'Which type of neural network is particularly effective for image processing?',\n",
       "  'Choices': 'a: Recurrent neural networks (RNNs) | b: Convolutional neural networks (CNNs) | c: Deep neural networks | d: Q-learning networks',\n",
       "  'Correct': 'b'},\n",
       " {'MCQ': 'What is a common challenge faced in machine learning related to the training of models?',\n",
       "  'Choices': 'a: Lack of computational resources | b: Difficulty in interpreting complex models | c: Overfitting and underfitting | d: Using small, low-quality datasets',\n",
       "  'Correct': 'c'}]"
      ]
     },
     "execution_count": 43,
     "metadata": {},
     "output_type": "execute_result"
    }
   ],
   "source": [
    "quiz_table_data\n"
   ]
  },
  {
   "cell_type": "code",
   "execution_count": 44,
   "metadata": {},
   "outputs": [],
   "source": [
    "quiz=pd.DataFrame(quiz_table_data)"
   ]
  },
  {
   "cell_type": "code",
   "execution_count": 45,
   "metadata": {},
   "outputs": [],
   "source": [
    "quiz.to_csv(\"machinelearning.csv\",index=False)"
   ]
  },
  {
   "cell_type": "code",
   "execution_count": 46,
   "metadata": {},
   "outputs": [
    {
     "data": {
      "text/plain": [
       "'08_03_2024_14_16_57'"
      ]
     },
     "execution_count": 46,
     "metadata": {},
     "output_type": "execute_result"
    }
   ],
   "source": [
    "from datetime import datetime\n",
    "datetime.now().strftime('%m_%d_%Y_%H_%M_%S')"
   ]
  },
  {
   "cell_type": "code",
   "execution_count": null,
   "metadata": {},
   "outputs": [],
   "source": []
  }
 ],
 "metadata": {
  "kernelspec": {
   "display_name": "Python 3",
   "language": "python",
   "name": "python3"
  },
  "language_info": {
   "codemirror_mode": {
    "name": "ipython",
    "version": 3
   },
   "file_extension": ".py",
   "mimetype": "text/x-python",
   "name": "python",
   "nbconvert_exporter": "python",
   "pygments_lexer": "ipython3",
   "version": "3.8.19"
  }
 },
 "nbformat": 4,
 "nbformat_minor": 2
}
